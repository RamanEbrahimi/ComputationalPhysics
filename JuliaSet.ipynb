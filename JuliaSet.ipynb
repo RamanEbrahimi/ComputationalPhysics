{
  "nbformat": 4,
  "nbformat_minor": 0,
  "metadata": {
    "colab": {
      "name": "JuliaSet.ipynb",
      "provenance": [],
      "authorship_tag": "ABX9TyObaWeXT0VP7G1CXTuTfgXj",
      "include_colab_link": true
    },
    "kernelspec": {
      "name": "python3",
      "display_name": "Python 3"
    },
    "language_info": {
      "name": "python"
    }
  },
  "cells": [
    {
      "cell_type": "markdown",
      "metadata": {
        "id": "view-in-github",
        "colab_type": "text"
      },
      "source": [
        "<a href=\"https://colab.research.google.com/github/RamanEbrahimi/ComputationalPhysics/blob/main/JuliaSet.ipynb\" target=\"_parent\"><img src=\"https://colab.research.google.com/assets/colab-badge.svg\" alt=\"Open In Colab\"/></a>"
      ]
    },
    {
      "cell_type": "code",
      "metadata": {
        "colab": {
          "base_uri": "https://localhost:8080/",
          "height": 263
        },
        "id": "l40aYSs0YbN8",
        "outputId": "1b3573d6-2d79-49be-cc1b-2d8e7523b839"
      },
      "source": [
        "import numpy as np\n",
        "import matplotlib.pyplot as plt\n",
        "import matplotlib.cm as cm\n",
        "\n",
        "# Image width and height; parameters for the plot\n",
        "im_width, im_height = 2000, 2000\n",
        "c = complex(-0.12, 0.75)\n",
        "power = 2\n",
        "zabs_max = 10\n",
        "nit_max = 1000\n",
        "xmin, xmax = -1.5, 1.5\n",
        "xwidth = xmax - xmin\n",
        "ymin, ymax = -1.5, 1.5\n",
        "yheight = ymax - ymin\n",
        "\n",
        "julia = np.zeros((im_width, im_height))\n",
        "for ix in range(im_width):\n",
        "    for iy in range(im_height):\n",
        "        # Map pixel position to a point in the complex plane\n",
        "        z = complex(ix / im_width * xwidth + xmin,\n",
        "                    iy / im_height * yheight + ymin)\n",
        "        # Do the iterations\n",
        "        nit = 0\n",
        "        while abs(z) <= zabs_max and nit < nit_max:\n",
        "            z = z**power + c\n",
        "            nit = nit + 1\n",
        "        ratio = nit / nit_max\n",
        "        julia[ix,iy] = ratio\n",
        "\n",
        "\n",
        "plt.imshow(julia.T, interpolation='nearest', cmap='nipy_spectral')\n",
        "plt.title('power is ' + str(power) + ' and c is ' + str(c))\n",
        "plt.axis('off')\n",
        "plt.savefig('julia_Set_' + str(power) + str(c) + '.png', dpi=300, bbox_inches='tight')\n",
        "plt.show()"
      ],
      "execution_count": null,
      "outputs": [
        {
          "output_type": "display_data",
          "data": {
            "image/png": "[encoded data removed]",
            "text/plain": [
              "<Figure size 432x288 with 1 Axes>"
            ]
          },
          "metadata": {
            "needs_background": "light"
          }
        }
      ]
    }
  ]
}