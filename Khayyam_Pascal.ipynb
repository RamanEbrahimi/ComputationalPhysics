{
  "nbformat": 4,
  "nbformat_minor": 0,
  "metadata": {
    "colab": {
      "name": "Khayyam-Pascal.ipynb",
      "provenance": [],
      "collapsed_sections": [],
      "authorship_tag": "ABX9TyNYyZF4Nb2nYqufoFbzMqAa",
      "include_colab_link": true
    },
    "kernelspec": {
      "name": "python3",
      "display_name": "Python 3"
    },
    "language_info": {
      "name": "python"
    }
  },
  "cells": [
    {
      "cell_type": "markdown",
      "metadata": {
        "id": "view-in-github",
        "colab_type": "text"
      },
      "source": [
        "<a href=\"https://colab.research.google.com/github/RamanEbrahimi/ComputationalPhysics/blob/main/Khayyam_Pascal.ipynb\" target=\"_parent\"><img src=\"https://colab.research.google.com/assets/colab-badge.svg\" alt=\"Open In Colab\"/></a>"
      ]
    },
    {
      "cell_type": "code",
      "metadata": {
        "colab": {
          "base_uri": "https://localhost:8080/",
          "height": 301
        },
        "id": "GXh7VZ7_2jdD",
        "outputId": "66def5ef-1844-468c-980d-0f68ea43bfdf"
      },
      "source": [
        "import matplotlib\n",
        "import matplotlib.pyplot as plt\n",
        "import numpy as np\n",
        "\n",
        "n = 8\n",
        "a = [[0 for i in range(2 * n + 1)] for i in range(n)]\n",
        "a[0][n] = 1\n",
        "i = 1\n",
        "while i != n:\n",
        "    j = 1\n",
        "    while j != 2 * n:\n",
        "        a[i][j] = a[i - 1][j - 1] + a[i - 1][j + 1]\n",
        "        j = j + 1\n",
        "    i = i + 1\n",
        "# for row in a:\n",
        "#   print(row)\n",
        "i = 0\n",
        "while i != n:\n",
        "    j = 1\n",
        "    while j != 2 * n:\n",
        "        if a[i][j] % 2 == 1:\n",
        "            plt.plot(j / (2 * n), 1 - i / n, 'r.')\n",
        "        else:\n",
        "            if a[i][j] != 0:\n",
        "                plt.plot(j / (2 * n), 1 - i / n, 'b.')\n",
        "                plt.title('n = ' + str(n))\n",
        "        j = j + 1\n",
        "    i = i + 1"
      ],
      "execution_count": null,
      "outputs": [
        {
          "output_type": "display_data",
          "data": {
            "image/png": "[encoded data removed]",
            "text/plain": [
              "<Figure size 432x288 with 1 Axes>"
            ]
          },
          "metadata": {
            "needs_background": "light"
          }
        }
      ]
    }
  ]
}