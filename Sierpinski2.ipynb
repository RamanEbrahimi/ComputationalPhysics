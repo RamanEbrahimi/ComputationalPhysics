{
  "nbformat": 4,
  "nbformat_minor": 0,
  "metadata": {
    "colab": {
      "name": "Sierpinski2.ipynb",
      "provenance": [],
      "collapsed_sections": [],
      "authorship_tag": "ABX9TyP9MnfKqD55oIhN8Vx8RkCt",
      "include_colab_link": true
    },
    "kernelspec": {
      "name": "python3",
      "display_name": "Python 3"
    },
    "language_info": {
      "name": "python"
    }
  },
  "cells": [
    {
      "cell_type": "markdown",
      "metadata": {
        "id": "view-in-github",
        "colab_type": "text"
      },
      "source": [
        "<a href=\"https://colab.research.google.com/github/RamanEbrahimi/ComputationalPhysics/blob/main/Sierpinski2.ipynb\" target=\"_parent\"><img src=\"https://colab.research.google.com/assets/colab-badge.svg\" alt=\"Open In Colab\"/></a>"
      ]
    },
    {
      "cell_type": "code",
      "metadata": {
        "colab": {
          "base_uri": "https://localhost:8080/",
          "height": 318
        },
        "id": "07zqFxhS8mZA",
        "outputId": "7c6203e3-cab3-4515-9350-daaad2845d7a"
      },
      "source": [
        "import matplotlib\n",
        "import matplotlib.pyplot as plt\n",
        "import numpy as np\n",
        "from random import uniform\n",
        "\n",
        "def f1(s, t):\n",
        "    m = s / 2\n",
        "    n = t / 2\n",
        "    return m, n\n",
        "\n",
        "\n",
        "def f2(s, t):\n",
        "    m = s / 2 + .5\n",
        "    n = t / 2\n",
        "    return m, n\n",
        "\n",
        "\n",
        "def f3(s, t):\n",
        "    m = s / 2 + .25\n",
        "    n = t / 2 + np.sqrt(3) / 4\n",
        "    return m, n\n",
        "\n",
        "\n",
        "i = 0\n",
        "total_points = 100000\n",
        "while i < total_points:\n",
        "    x = uniform(0, 1)\n",
        "    y = uniform(0, 1)\n",
        "    j = 0\n",
        "    while j < 5:\n",
        "        x, y = np.random.choice([f1, f2, f3])(x, y)\n",
        "        j = j + 1\n",
        "    plt.plot(x, y, 'k,')\n",
        "    i = i + 1\n",
        "plt.xlim([0, 1])\n",
        "plt.ylim([0, 1])\n",
        "plt.title('points count = ' + str(i) + ' (using smaller point marks)')"
      ],
      "execution_count": null,
      "outputs": [
        {
          "output_type": "execute_result",
          "data": {
            "text/plain": [
              "Text(0.5, 1.0, 'points count = 100000 (using smaller point marks)')"
            ]
          },
          "metadata": {},
          "execution_count": 40
        },
        {
          "output_type": "display_data",
          "data": {
            "image/png": "[encoded data removed]",
            "text/plain": [
              "<Figure size 432x288 with 1 Axes>"
            ]
          },
          "metadata": {
            "needs_background": "light"
          }
        }
      ]
    }
  ]
}