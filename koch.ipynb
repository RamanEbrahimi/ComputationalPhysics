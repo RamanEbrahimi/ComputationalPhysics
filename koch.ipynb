{
  "nbformat": 4,
  "nbformat_minor": 0,
  "metadata": {
    "colab": {
      "name": "koch.ipynb",
      "provenance": [],
      "collapsed_sections": [],
      "authorship_tag": "ABX9TyPEJo+Qv5KirdtckQfU33Bd",
      "include_colab_link": true
    },
    "kernelspec": {
      "name": "python3",
      "display_name": "Python 3"
    },
    "language_info": {
      "name": "python"
    }
  },
  "cells": [
    {
      "cell_type": "markdown",
      "metadata": {
        "id": "view-in-github",
        "colab_type": "text"
      },
      "source": [
        "<a href=\"https://colab.research.google.com/github/RamanEbrahimi/ComputationalPhysics/blob/main/koch.ipynb\" target=\"_parent\"><img src=\"https://colab.research.google.com/assets/colab-badge.svg\" alt=\"Open In Colab\"/></a>"
      ]
    },
    {
      "cell_type": "code",
      "metadata": {
        "colab": {
          "base_uri": "https://localhost:8080/",
          "height": 301
        },
        "id": "_7Hsas01y0Cx",
        "outputId": "ea86064f-2db0-4b93-8592-256d08fb9e37"
      },
      "source": [
        "import matplotlib.animation as mpla\n",
        "import matplotlib.pyplot as plt\n",
        "import numpy as np\n",
        "\n",
        "\n",
        "def f1(a, b):\n",
        "    c = a / 3\n",
        "    d = b / 3\n",
        "    return c, d\n",
        "\n",
        "def f2(a, b):\n",
        "    c = (a / 3) / 2 - (b / 3) * (np.sqrt(3)) / 2 + 1 / 3\n",
        "    d = (a / 3) * (np.sqrt(3)) / 2 + (b / 6)\n",
        "    return c, d\n",
        "\n",
        "def f3(a, b):\n",
        "    c = (a / 3) / 2 + (b / 3) * (np.sqrt(3)) / 2 + 1 / 2\n",
        "    d = -(a / 6) * (np.sqrt(3)) + (b / 6) + (np.sqrt(3)) / 6\n",
        "    return c, d\n",
        "\n",
        "def f4(a, b):\n",
        "    c = a / 3 + 2 / 3\n",
        "    d = b / 3\n",
        "    return c, d\n",
        "\n",
        "x = np.zeros(50000)\n",
        "y = np.zeros(50000)\n",
        "x[0] = 0\n",
        "y[0] = 0\n",
        "x[1] = 1\n",
        "y[1] = 0\n",
        "a = np.zeros(50000)\n",
        "b = a\n",
        "c = a\n",
        "d = a\n",
        "e = a\n",
        "f = a\n",
        "g = a\n",
        "h = a\n",
        "\n",
        "i = 2\n",
        "for marhale in range(0, 7, 1):\n",
        "  while i < 2 * (4 ** marhale):\n",
        "      a, b = f1(x, y)\n",
        "      c, d = f2(x, y)\n",
        "      e, f = f3(x, y)\n",
        "      g, h = f4(x, y)\n",
        "      j = 0\n",
        "      while j != i:\n",
        "          x[j] = a[j]\n",
        "          y[j] = b[j]\n",
        "          j = j + 1\n",
        "      while j != 2 * i:\n",
        "          x[j] = c[j - i]\n",
        "          y[j] = d[j - i]\n",
        "          j = j + 1\n",
        "      while j != 3 * i:\n",
        "          x[j] = e[j - 2 * i]\n",
        "          y[j] = f[j - 2 * i]\n",
        "          j = j + 1\n",
        "      while j != 4 * i:\n",
        "          x[j] = g[j - 3 * i]\n",
        "          y[j] = h[j - 3 * i]\n",
        "          j = j + 1\n",
        "      i = 4 * i\n",
        "  x_values = np.zeros(i)\n",
        "  y_values = np.zeros(i)\n",
        "  j = 0\n",
        "  while j != i:\n",
        "      x_values[j] = x[j]\n",
        "      y_values[j] = y[j]\n",
        "      j = j + 1\n",
        "  var = str(marhale)\n",
        "  plt.plot(x_values, y_values)\n",
        "  plt.yticks(np.arange(0, 1, 0.2))\n",
        "  plt.xticks(np.arange(0, 1.2, 0.2))\n",
        "  matplotlib.pyplot.title('Total steps = ' + var)\n",
        "  matplotlib.pyplot.legend(['0', '1', '2', '3', '4', '5', '6'])"
      ],
      "execution_count": null,
      "outputs": [
        {
          "output_type": "display_data",
          "data": {
            "image/png": "[encoded data removed]",
            "text/plain": [
              "<Figure size 432x288 with 1 Axes>"
            ]
          },
          "metadata": {
            "needs_background": "light"
          }
        }
      ]
    }
  ]
}