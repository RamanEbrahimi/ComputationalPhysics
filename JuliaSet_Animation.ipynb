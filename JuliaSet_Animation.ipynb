{
  "nbformat": 4,
  "nbformat_minor": 0,
  "metadata": {
    "colab": {
      "name": "JuliaSet_Animation.ipynb",
      "provenance": [],
      "authorship_tag": "ABX9TyPiN5S5V1dPDO8gXzOrJRoC",
      "include_colab_link": true
    },
    "kernelspec": {
      "name": "python3",
      "display_name": "Python 3"
    },
    "language_info": {
      "name": "python"
    }
  },
  "cells": [
    {
      "cell_type": "markdown",
      "metadata": {
        "id": "view-in-github",
        "colab_type": "text"
      },
      "source": [
        "<a href=\"https://colab.research.google.com/github/RamanEbrahimi/ComputationalPhysics/blob/main/JuliaSet_Animation.ipynb\" target=\"_parent\"><img src=\"https://colab.research.google.com/assets/colab-badge.svg\" alt=\"Open In Colab\"/></a>"
      ]
    },
    {
      "cell_type": "code",
      "metadata": {
        "id": "tQqkBcfleU-T"
      },
      "source": [
        "import numpy as np\n",
        "import matplotlib.pyplot as plt\n",
        "import matplotlib.animation as animation"
      ],
      "execution_count": null,
      "outputs": []
    },
    {
      "cell_type": "code",
      "metadata": {
        "id": "gG-EvIoyeatt"
      },
      "source": [
        "def julia(zx, zy, cx, cy, threshold):\n",
        "    # z[0] = zx + i * zy\n",
        "    # c = x + i * y\n",
        "    # z[n + 1] = z[n]**2 + c \n",
        "\n",
        "    # initial conditions\n",
        "    z = complex(zx, zy)\n",
        "    c = complex(cx, cy)\n",
        "    power = 2\n",
        "\n",
        "    for i in range(threshold):\n",
        "        z = z**power + c\n",
        "        if abs(z) > 1:  # it diverged\n",
        "            return i\n",
        "    return threshold - 1  # it didn't diverge"
      ],
      "execution_count": null,
      "outputs": []
    },
    {
      "cell_type": "code",
      "metadata": {
        "id": "sQF3umXjedhk"
      },
      "source": [
        "x_start, y_start = -2, -2  # region\n",
        "width, height = 4, 4  # for 3 units to the left and to the right\n",
        "density_per_unit = 200  # pixles per unit\n",
        "\n",
        "re = np.linspace(x_start, x_start + width, width * density_per_unit )  # real axis\n",
        "im = np.linspace(y_start, y_start + height, height * density_per_unit)  # imaginary axis\n",
        "\n",
        "X = np.empty((len(re), len(im)))  # the initial array-like image"
      ],
      "execution_count": null,
      "outputs": []
    },
    {
      "cell_type": "code",
      "metadata": {
        "id": "3leCRlpueh1o"
      },
      "source": [
        "threshold = 30  # max allowed iterations\n",
        "\n",
        "# c = r * cos(a) + i * r * sin(a) = r * e^{i * a}\n",
        "r = 0.7\n",
        "a = np.pi / 3\n",
        "cx, cy = r * np.cos(a), r * np.sin(a)\n",
        "c = complex(cx, cy)\n",
        "power = 2\n",
        "\n",
        "# fill-in the image with the number of iterations\n",
        "for i in range(len(re)):\n",
        "    for j in range(len(im)):\n",
        "        X[i, j] = julia(zx=re[i], zy=im[j], cx=cx, cy=cy, threshold=threshold)"
      ],
      "execution_count": null,
      "outputs": []
    },
    {
      "cell_type": "code",
      "metadata": {
        "colab": {
          "base_uri": "https://localhost:8080/",
          "height": 680
        },
        "id": "m6ZMSv7fekhx",
        "outputId": "e8b40c9e-f9cf-4d9d-f0d8-a13ec2477827"
      },
      "source": [
        "fig = plt.figure(figsize=(10, 10))\n",
        "\n",
        "ax = plt.axes()\n",
        "ax.set_xticks([], [])\n",
        "ax.set_yticks([], [])\n",
        "\n",
        "ax.imshow(X.T, interpolation='nearest', cmap='magma')\n",
        "plt.title('power is ' + str(power) + ' and c is ' + str(c))\n",
        "plt.savefig('julia_Set' + str(power) + str(c) + '.png', dpi=300, bbox_inches='tight')"
      ],
      "execution_count": null,
      "outputs": [
        {
          "output_type": "stream",
          "name": "stderr",
          "text": [
            "/usr/local/lib/python3.7/dist-packages/ipykernel_launcher.py:4: MatplotlibDeprecationWarning: Passing the minor parameter of set_xticks() positionally is deprecated since Matplotlib 3.2; the parameter will become keyword-only two minor releases later.\n",
            "  after removing the cwd from sys.path.\n",
            "/usr/local/lib/python3.7/dist-packages/ipykernel_launcher.py:5: MatplotlibDeprecationWarning: Passing the minor parameter of set_yticks() positionally is deprecated since Matplotlib 3.2; the parameter will become keyword-only two minor releases later.\n",
            "  \"\"\"\n"
          ]
        },
        {
          "output_type": "display_data",
          "data": {
            "image/png": "[encoded data removed]",
            "text/plain": [
              "<Figure size 720x720 with 1 Axes>"
            ]
          },
          "metadata": {}
        }
      ]
    },
    {
      "cell_type": "code",
      "metadata": {
        "id": "rBj9h998em1H"
      },
      "source": [
        "# ANIMATION\n",
        "x_start, y_start = -2, -2\n",
        "width, height = 4, 4\n",
        "density_per_unit = 200\n",
        "\n",
        "re = np.linspace(x_start, x_start + width, width * density_per_unit )  # real axis\n",
        "im = np.linspace(y_start, y_start + height, height * density_per_unit)  # imaginary axis"
      ],
      "execution_count": null,
      "outputs": []
    },
    {
      "cell_type": "code",
      "metadata": {
        "colab": {
          "base_uri": "https://localhost:8080/",
          "height": 729
        },
        "id": "GSbNtjYVesJs",
        "outputId": "c16af245-7ffa-45d5-ff23-42e98e774fe6"
      },
      "source": [
        "threshold = 30\n",
        "frames = 1000  # number of frames in the animation\n",
        "as_mp4 = True\n",
        "\n",
        "r = 0.7885\n",
        "a = np.linspace(0, 2*np.pi, frames)\n",
        "\n",
        "fig = plt.figure(figsize=(10, 10))\n",
        "ax = plt.axes()\n",
        "\n",
        "def animate(i):\n",
        "    ax.clear()\n",
        "    ax.set_xticks([], [])\n",
        "    ax.set_yticks([], [])\n",
        "    \n",
        "    X = np.empty((len(re), len(im)))\n",
        "    cx, cy = r * np.cos(a[i]), r * np.sin(a[i])\n",
        "    \n",
        "    # fill-in the image with the number of interations\n",
        "    for i in range(len(re)):\n",
        "        for j in range(len(im)):\n",
        "            X[i, j] = julia(zx=re[i], zy=im[j], cx=cx, cy=cy, threshold=threshold)\n",
        "    \n",
        "    img = ax.imshow(X.T, interpolation='nearest', cmap='magma')\n",
        "    return [img]\n",
        "\n",
        "# call the animator\t \n",
        "anim = animation.FuncAnimation(fig, animate, frames=frames, interval=50, blit=True)\n",
        "\n",
        "if as_mp4:\n",
        "    # save the animation as a mp4 file \n",
        "    anim.save('julia_set.mp4') \n",
        "else:\n",
        "    anim.save('julia_set.gif', writer='Me')"
      ],
      "execution_count": null,
      "outputs": [
        {
          "output_type": "stream",
          "name": "stderr",
          "text": [
            "/usr/local/lib/python3.7/dist-packages/ipykernel_launcher.py:13: MatplotlibDeprecationWarning: Passing the minor parameter of set_xticks() positionally is deprecated since Matplotlib 3.2; the parameter will become keyword-only two minor releases later.\n",
            "  del sys.path[0]\n",
            "/usr/local/lib/python3.7/dist-packages/ipykernel_launcher.py:14: MatplotlibDeprecationWarning: Passing the minor parameter of set_yticks() positionally is deprecated since Matplotlib 3.2; the parameter will become keyword-only two minor releases later.\n",
            "  \n",
            "/usr/local/lib/python3.7/dist-packages/ipykernel_launcher.py:13: MatplotlibDeprecationWarning: Passing the minor parameter of set_xticks() positionally is deprecated since Matplotlib 3.2; the parameter will become keyword-only two minor releases later.\n",
            "  del sys.path[0]\n",
            "/usr/local/lib/python3.7/dist-packages/ipykernel_launcher.py:14: MatplotlibDeprecationWarning: Passing the minor parameter of set_yticks() positionally is deprecated since Matplotlib 3.2; the parameter will become keyword-only two minor releases later.\n",
            "  \n"
          ]
        },
        {
          "output_type": "display_data",
          "data": {
            "image/png": "[encoded data removed]",
            "text/plain": [
              "<Figure size 720x720 with 1 Axes>"
            ]
          },
          "metadata": {}
        }
      ]
    },
    {
      "cell_type": "code",
      "metadata": {
        "id": "8i9TYFxhLS-m"
      },
      "source": [
        ""
      ],
      "execution_count": null,
      "outputs": []
    }
  ]
}